{
  "nbformat": 4,
  "nbformat_minor": 0,
  "metadata": {
    "colab": {
      "name": "TuhtaevAshurbek_kaggle. ipynb",
      "provenance": [],
      "collapsed_sections": [],
      "authorship_tag": "ABX9TyOWmVlXw8ZipSavEYuWgZC0",
      "include_colab_link": true
    },
    "kernelspec": {
      "name": "python3",
      "display_name": "Python 3"
    },
    "language_info": {
      "name": "python"
    },
    "accelerator": "GPU",
    "gpuClass": "standard"
  },
  "cells": [
    {
      "cell_type": "markdown",
      "metadata": {
        "id": "view-in-github",
        "colab_type": "text"
      },
      "source": [
        "<a href=\"https://colab.research.google.com/github/Hashnroll/pygame_game/blob/master/TuhtaevAshurbek_kaggle_ipynb.ipynb\" target=\"_parent\"><img src=\"https://colab.research.google.com/assets/colab-badge.svg\" alt=\"Open In Colab\"/></a>"
      ]
    },
    {
      "cell_type": "code",
      "source": [
        "!unzip train.csv.zip\n",
        "!unzip test.csv.zip"
      ],
      "metadata": {
        "id": "jknFsjtjYaov",
        "colab": {
          "base_uri": "https://localhost:8080/"
        },
        "outputId": "a13111f2-2456-4328-b000-5decebd407b4"
      },
      "execution_count": null,
      "outputs": [
        {
          "output_type": "stream",
          "name": "stdout",
          "text": [
            "Archive:  train.csv.zip\n",
            "  inflating: train.csv               \n",
            "Archive:  test.csv.zip\n",
            "  inflating: test.csv                \n"
          ]
        }
      ]
    },
    {
      "cell_type": "code",
      "source": [
        "# !pip install catboost"
      ],
      "metadata": {
        "id": "CJJMptQw2poF"
      },
      "execution_count": null,
      "outputs": []
    },
    {
      "cell_type": "markdown",
      "source": [
        "#Импортируем нужные библиотеки"
      ],
      "metadata": {
        "id": "bx8hQTAtIUIp"
      }
    },
    {
      "cell_type": "code",
      "execution_count": null,
      "metadata": {
        "id": "FnVEgKdaD1L5"
      },
      "outputs": [],
      "source": [
        "import numpy as np\n",
        "import pandas as pd\n",
        "import matplotlib.pyplot as plt\n",
        "%matplotlib inline\n",
        "import seaborn as sns\n",
        "import json\n",
        "from sklearn.model_selection import train_test_split, cross_val_score\n",
        "from sklearn.metrics import mean_squared_error\n",
        "from catboost import Pool, CatBoostRegressor"
      ]
    },
    {
      "cell_type": "markdown",
      "source": [
        "#Чтение данных"
      ],
      "metadata": {
        "id": "dVnpeRULIXP3"
      }
    },
    {
      "cell_type": "code",
      "source": [
        "train_df = pd.read_csv('./train.csv', index_col='id')\n",
        "test_df = pd.read_csv('./test.csv', index_col='id')\n",
        "print('Train shape:', train_df.shape)\n",
        "print('Test shape:', test_df.shape)"
      ],
      "metadata": {
        "colab": {
          "base_uri": "https://localhost:8080/"
        },
        "id": "o_-K0wH6Gv1z",
        "outputId": "eede5a17-1eb4-4f65-f504-82c65898e485"
      },
      "execution_count": null,
      "outputs": [
        {
          "output_type": "stream",
          "name": "stdout",
          "text": [
            "Train shape: (70133, 31)\n",
            "Test shape: (17534, 30)\n"
          ]
        }
      ]
    },
    {
      "cell_type": "markdown",
      "source": [
        "#Посмотрим на датасет"
      ],
      "metadata": {
        "id": "elz2lDOBId_7"
      }
    },
    {
      "cell_type": "code",
      "source": [
        "train_df.info()"
      ],
      "metadata": {
        "colab": {
          "base_uri": "https://localhost:8080/"
        },
        "id": "URV_1M9XH_ia",
        "outputId": "9d4350ba-840d-44fb-abe1-035beb501e60"
      },
      "execution_count": null,
      "outputs": [
        {
          "output_type": "stream",
          "name": "stdout",
          "text": [
            "<class 'pandas.core.frame.DataFrame'>\n",
            "Int64Index: 70133 entries, 45673 to 62175\n",
            "Data columns (total 31 columns):\n",
            " #   Column                      Non-Null Count  Dtype  \n",
            "---  ------                      --------------  -----  \n",
            " 0   priceValue                  70133 non-null  int64  \n",
            " 1   details                     70133 non-null  object \n",
            " 2   location                    70133 non-null  object \n",
            " 3   galleryImagesCount          70133 non-null  int64  \n",
            " 4   hasVideos                   70133 non-null  bool   \n",
            " 5   isReported                  70133 non-null  bool   \n",
            " 6   isVerifiedProAgency         70133 non-null  bool   \n",
            " 7   isShownLowQualityIndicator  70133 non-null  bool   \n",
            " 8   isPremium                   70133 non-null  bool   \n",
            " 9   station                     70133 non-null  object \n",
            " 10  closestStations             70133 non-null  object \n",
            " 11  rooms                       70133 non-null  object \n",
            " 12  floorArea                   70133 non-null  object \n",
            " 13  floor                       70133 non-null  object \n",
            " 14  agencyId                    70133 non-null  int64  \n",
            " 15  agencyName                  70132 non-null  object \n",
            " 16  itemType                    70133 non-null  object \n",
            " 17  propertyType                70133 non-null  object \n",
            " 18  floorInt                    70133 non-null  int64  \n",
            " 19  floorAreaCalculated         70133 non-null  float64\n",
            " 20  regionId                    70133 non-null  int64  \n",
            " 21  cityId                      70133 non-null  int64  \n",
            " 22  adminDistrictId             63636 non-null  float64\n",
            " 23  districtId                  63636 non-null  float64\n",
            " 24  metroId                     58088 non-null  float64\n",
            " 25  roomsOrdinal                54038 non-null  float64\n",
            " 26  isStudio                    70133 non-null  bool   \n",
            " 27  isFreePlan                  70133 non-null  bool   \n",
            " 28  apartmentSaleType           70133 non-null  object \n",
            " 29  developmentId               35340 non-null  float64\n",
            " 30  roadId                      28 non-null     float64\n",
            "dtypes: bool(7), float64(7), int64(6), object(11)\n",
            "memory usage: 13.8+ MB\n"
          ]
        }
      ]
    },
    {
      "cell_type": "code",
      "source": [
        "train_df.head()"
      ],
      "metadata": {
        "colab": {
          "base_uri": "https://localhost:8080/",
          "height": 591
        },
        "id": "YpmMWUwGHQxr",
        "outputId": "8516856c-34cb-4891-f891-4d0cdeec586b"
      },
      "execution_count": null,
      "outputs": [
        {
          "output_type": "execute_result",
          "data": {
            "text/plain": [
              "       priceValue  details                                         location  \\\n",
              "id                                                                            \n",
              "45673    14630000  57.5 м²     {'longitude': 37.3802, 'latitude': 55.81002}   \n",
              "27729    15284500    35 м²    {'longitude': 37.65031, 'latitude': 55.84894}   \n",
              "72599     8400000  21.5 м²  {'longitude': 37.599337, 'latitude': 55.772294}   \n",
              "46172    81000000   133 м²   {'longitude': 37.488035, 'latitude': 55.69624}   \n",
              "17852    12300000  41.4 м²  {'longitude': 37.437568, 'latitude': 55.722527}   \n",
              "\n",
              "       galleryImagesCount  hasVideos  isReported  isVerifiedProAgency  \\\n",
              "id                                                                      \n",
              "45673                   6      False       False                False   \n",
              "27729                   5      False       False                False   \n",
              "72599                   7       True       False                False   \n",
              "46172                   8      False       False                False   \n",
              "17852                  16      False       False                False   \n",
              "\n",
              "       isShownLowQualityIndicator  isPremium  \\\n",
              "id                                             \n",
              "45673                       False      False   \n",
              "27729                       False      False   \n",
              "72599                       False      False   \n",
              "46172                       False      False   \n",
              "17852                       False      False   \n",
              "\n",
              "                                                 station  ... cityId  \\\n",
              "id                                                        ...          \n",
              "45673  {'id': 231, 'stationType': 'Metro', 'name': 'М...  ...   3584   \n",
              "27729  {'id': 119, 'stationType': 'Metro', 'name': 'С...  ...   3584   \n",
              "72599  {'id': 78, 'stationType': 'Metro', 'name': 'Ма...  ...   3584   \n",
              "46172  {'id': 350, 'stationType': 'Metro', 'name': 'Р...  ...   3584   \n",
              "17852  {'id': 694, 'stationType': 'Railway', 'name': ...  ...   3584   \n",
              "\n",
              "      adminDistrictId districtId metroId  roomsOrdinal isStudio isFreePlan  \\\n",
              "id                                                                           \n",
              "45673            10.0      574.0   231.0           1.0    False      False   \n",
              "27729             5.0      504.0   119.0           NaN     True      False   \n",
              "72599             3.0      537.0    78.0           NaN     True      False   \n",
              "46172            10.0      623.0   350.0           4.0    False      False   \n",
              "17852            10.0      539.0    70.0           2.0    False      False   \n",
              "\n",
              "      apartmentSaleType  developmentId  roadId  \n",
              "id                                              \n",
              "45673               New   1.034510e+09     NaN  \n",
              "27729               New   1.037459e+09     NaN  \n",
              "72599            Resale            NaN     NaN  \n",
              "46172            Resale            NaN     NaN  \n",
              "17852            Resale            NaN     NaN  \n",
              "\n",
              "[5 rows x 31 columns]"
            ],
            "text/html": [
              "\n",
              "  <div id=\"df-ef01636c-f0b3-46c7-b154-a17e9137d76f\">\n",
              "    <div class=\"colab-df-container\">\n",
              "      <div>\n",
              "<style scoped>\n",
              "    .dataframe tbody tr th:only-of-type {\n",
              "        vertical-align: middle;\n",
              "    }\n",
              "\n",
              "    .dataframe tbody tr th {\n",
              "        vertical-align: top;\n",
              "    }\n",
              "\n",
              "    .dataframe thead th {\n",
              "        text-align: right;\n",
              "    }\n",
              "</style>\n",
              "<table border=\"1\" class=\"dataframe\">\n",
              "  <thead>\n",
              "    <tr style=\"text-align: right;\">\n",
              "      <th></th>\n",
              "      <th>priceValue</th>\n",
              "      <th>details</th>\n",
              "      <th>location</th>\n",
              "      <th>galleryImagesCount</th>\n",
              "      <th>hasVideos</th>\n",
              "      <th>isReported</th>\n",
              "      <th>isVerifiedProAgency</th>\n",
              "      <th>isShownLowQualityIndicator</th>\n",
              "      <th>isPremium</th>\n",
              "      <th>station</th>\n",
              "      <th>...</th>\n",
              "      <th>cityId</th>\n",
              "      <th>adminDistrictId</th>\n",
              "      <th>districtId</th>\n",
              "      <th>metroId</th>\n",
              "      <th>roomsOrdinal</th>\n",
              "      <th>isStudio</th>\n",
              "      <th>isFreePlan</th>\n",
              "      <th>apartmentSaleType</th>\n",
              "      <th>developmentId</th>\n",
              "      <th>roadId</th>\n",
              "    </tr>\n",
              "    <tr>\n",
              "      <th>id</th>\n",
              "      <th></th>\n",
              "      <th></th>\n",
              "      <th></th>\n",
              "      <th></th>\n",
              "      <th></th>\n",
              "      <th></th>\n",
              "      <th></th>\n",
              "      <th></th>\n",
              "      <th></th>\n",
              "      <th></th>\n",
              "      <th></th>\n",
              "      <th></th>\n",
              "      <th></th>\n",
              "      <th></th>\n",
              "      <th></th>\n",
              "      <th></th>\n",
              "      <th></th>\n",
              "      <th></th>\n",
              "      <th></th>\n",
              "      <th></th>\n",
              "      <th></th>\n",
              "    </tr>\n",
              "  </thead>\n",
              "  <tbody>\n",
              "    <tr>\n",
              "      <th>45673</th>\n",
              "      <td>14630000</td>\n",
              "      <td>57.5 м²</td>\n",
              "      <td>{'longitude': 37.3802, 'latitude': 55.81002}</td>\n",
              "      <td>6</td>\n",
              "      <td>False</td>\n",
              "      <td>False</td>\n",
              "      <td>False</td>\n",
              "      <td>False</td>\n",
              "      <td>False</td>\n",
              "      <td>{'id': 231, 'stationType': 'Metro', 'name': 'М...</td>\n",
              "      <td>...</td>\n",
              "      <td>3584</td>\n",
              "      <td>10.0</td>\n",
              "      <td>574.0</td>\n",
              "      <td>231.0</td>\n",
              "      <td>1.0</td>\n",
              "      <td>False</td>\n",
              "      <td>False</td>\n",
              "      <td>New</td>\n",
              "      <td>1.034510e+09</td>\n",
              "      <td>NaN</td>\n",
              "    </tr>\n",
              "    <tr>\n",
              "      <th>27729</th>\n",
              "      <td>15284500</td>\n",
              "      <td>35 м²</td>\n",
              "      <td>{'longitude': 37.65031, 'latitude': 55.84894}</td>\n",
              "      <td>5</td>\n",
              "      <td>False</td>\n",
              "      <td>False</td>\n",
              "      <td>False</td>\n",
              "      <td>False</td>\n",
              "      <td>False</td>\n",
              "      <td>{'id': 119, 'stationType': 'Metro', 'name': 'С...</td>\n",
              "      <td>...</td>\n",
              "      <td>3584</td>\n",
              "      <td>5.0</td>\n",
              "      <td>504.0</td>\n",
              "      <td>119.0</td>\n",
              "      <td>NaN</td>\n",
              "      <td>True</td>\n",
              "      <td>False</td>\n",
              "      <td>New</td>\n",
              "      <td>1.037459e+09</td>\n",
              "      <td>NaN</td>\n",
              "    </tr>\n",
              "    <tr>\n",
              "      <th>72599</th>\n",
              "      <td>8400000</td>\n",
              "      <td>21.5 м²</td>\n",
              "      <td>{'longitude': 37.599337, 'latitude': 55.772294}</td>\n",
              "      <td>7</td>\n",
              "      <td>True</td>\n",
              "      <td>False</td>\n",
              "      <td>False</td>\n",
              "      <td>False</td>\n",
              "      <td>False</td>\n",
              "      <td>{'id': 78, 'stationType': 'Metro', 'name': 'Ма...</td>\n",
              "      <td>...</td>\n",
              "      <td>3584</td>\n",
              "      <td>3.0</td>\n",
              "      <td>537.0</td>\n",
              "      <td>78.0</td>\n",
              "      <td>NaN</td>\n",
              "      <td>True</td>\n",
              "      <td>False</td>\n",
              "      <td>Resale</td>\n",
              "      <td>NaN</td>\n",
              "      <td>NaN</td>\n",
              "    </tr>\n",
              "    <tr>\n",
              "      <th>46172</th>\n",
              "      <td>81000000</td>\n",
              "      <td>133 м²</td>\n",
              "      <td>{'longitude': 37.488035, 'latitude': 55.69624}</td>\n",
              "      <td>8</td>\n",
              "      <td>False</td>\n",
              "      <td>False</td>\n",
              "      <td>False</td>\n",
              "      <td>False</td>\n",
              "      <td>False</td>\n",
              "      <td>{'id': 350, 'stationType': 'Metro', 'name': 'Р...</td>\n",
              "      <td>...</td>\n",
              "      <td>3584</td>\n",
              "      <td>10.0</td>\n",
              "      <td>623.0</td>\n",
              "      <td>350.0</td>\n",
              "      <td>4.0</td>\n",
              "      <td>False</td>\n",
              "      <td>False</td>\n",
              "      <td>Resale</td>\n",
              "      <td>NaN</td>\n",
              "      <td>NaN</td>\n",
              "    </tr>\n",
              "    <tr>\n",
              "      <th>17852</th>\n",
              "      <td>12300000</td>\n",
              "      <td>41.4 м²</td>\n",
              "      <td>{'longitude': 37.437568, 'latitude': 55.722527}</td>\n",
              "      <td>16</td>\n",
              "      <td>False</td>\n",
              "      <td>False</td>\n",
              "      <td>False</td>\n",
              "      <td>False</td>\n",
              "      <td>False</td>\n",
              "      <td>{'id': 694, 'stationType': 'Railway', 'name': ...</td>\n",
              "      <td>...</td>\n",
              "      <td>3584</td>\n",
              "      <td>10.0</td>\n",
              "      <td>539.0</td>\n",
              "      <td>70.0</td>\n",
              "      <td>2.0</td>\n",
              "      <td>False</td>\n",
              "      <td>False</td>\n",
              "      <td>Resale</td>\n",
              "      <td>NaN</td>\n",
              "      <td>NaN</td>\n",
              "    </tr>\n",
              "  </tbody>\n",
              "</table>\n",
              "<p>5 rows × 31 columns</p>\n",
              "</div>\n",
              "      <button class=\"colab-df-convert\" onclick=\"convertToInteractive('df-ef01636c-f0b3-46c7-b154-a17e9137d76f')\"\n",
              "              title=\"Convert this dataframe to an interactive table.\"\n",
              "              style=\"display:none;\">\n",
              "        \n",
              "  <svg xmlns=\"http://www.w3.org/2000/svg\" height=\"24px\"viewBox=\"0 0 24 24\"\n",
              "       width=\"24px\">\n",
              "    <path d=\"M0 0h24v24H0V0z\" fill=\"none\"/>\n",
              "    <path d=\"M18.56 5.44l.94 2.06.94-2.06 2.06-.94-2.06-.94-.94-2.06-.94 2.06-2.06.94zm-11 1L8.5 8.5l.94-2.06 2.06-.94-2.06-.94L8.5 2.5l-.94 2.06-2.06.94zm10 10l.94 2.06.94-2.06 2.06-.94-2.06-.94-.94-2.06-.94 2.06-2.06.94z\"/><path d=\"M17.41 7.96l-1.37-1.37c-.4-.4-.92-.59-1.43-.59-.52 0-1.04.2-1.43.59L10.3 9.45l-7.72 7.72c-.78.78-.78 2.05 0 2.83L4 21.41c.39.39.9.59 1.41.59.51 0 1.02-.2 1.41-.59l7.78-7.78 2.81-2.81c.8-.78.8-2.07 0-2.86zM5.41 20L4 18.59l7.72-7.72 1.47 1.35L5.41 20z\"/>\n",
              "  </svg>\n",
              "      </button>\n",
              "      \n",
              "  <style>\n",
              "    .colab-df-container {\n",
              "      display:flex;\n",
              "      flex-wrap:wrap;\n",
              "      gap: 12px;\n",
              "    }\n",
              "\n",
              "    .colab-df-convert {\n",
              "      background-color: #E8F0FE;\n",
              "      border: none;\n",
              "      border-radius: 50%;\n",
              "      cursor: pointer;\n",
              "      display: none;\n",
              "      fill: #1967D2;\n",
              "      height: 32px;\n",
              "      padding: 0 0 0 0;\n",
              "      width: 32px;\n",
              "    }\n",
              "\n",
              "    .colab-df-convert:hover {\n",
              "      background-color: #E2EBFA;\n",
              "      box-shadow: 0px 1px 2px rgba(60, 64, 67, 0.3), 0px 1px 3px 1px rgba(60, 64, 67, 0.15);\n",
              "      fill: #174EA6;\n",
              "    }\n",
              "\n",
              "    [theme=dark] .colab-df-convert {\n",
              "      background-color: #3B4455;\n",
              "      fill: #D2E3FC;\n",
              "    }\n",
              "\n",
              "    [theme=dark] .colab-df-convert:hover {\n",
              "      background-color: #434B5C;\n",
              "      box-shadow: 0px 1px 3px 1px rgba(0, 0, 0, 0.15);\n",
              "      filter: drop-shadow(0px 1px 2px rgba(0, 0, 0, 0.3));\n",
              "      fill: #FFFFFF;\n",
              "    }\n",
              "  </style>\n",
              "\n",
              "      <script>\n",
              "        const buttonEl =\n",
              "          document.querySelector('#df-ef01636c-f0b3-46c7-b154-a17e9137d76f button.colab-df-convert');\n",
              "        buttonEl.style.display =\n",
              "          google.colab.kernel.accessAllowed ? 'block' : 'none';\n",
              "\n",
              "        async function convertToInteractive(key) {\n",
              "          const element = document.querySelector('#df-ef01636c-f0b3-46c7-b154-a17e9137d76f');\n",
              "          const dataTable =\n",
              "            await google.colab.kernel.invokeFunction('convertToInteractive',\n",
              "                                                     [key], {});\n",
              "          if (!dataTable) return;\n",
              "\n",
              "          const docLinkHtml = 'Like what you see? Visit the ' +\n",
              "            '<a target=\"_blank\" href=https://colab.research.google.com/notebooks/data_table.ipynb>data table notebook</a>'\n",
              "            + ' to learn more about interactive tables.';\n",
              "          element.innerHTML = '';\n",
              "          dataTable['output_type'] = 'display_data';\n",
              "          await google.colab.output.renderOutput(dataTable, element);\n",
              "          const docLink = document.createElement('div');\n",
              "          docLink.innerHTML = docLinkHtml;\n",
              "          element.appendChild(docLink);\n",
              "        }\n",
              "      </script>\n",
              "    </div>\n",
              "  </div>\n",
              "  "
            ]
          },
          "metadata": {},
          "execution_count": 8
        }
      ]
    },
    {
      "cell_type": "code",
      "source": [
        "test_df.info()"
      ],
      "metadata": {
        "colab": {
          "base_uri": "https://localhost:8080/"
        },
        "id": "GiC6DstGfXoF",
        "outputId": "276f4bc4-9735-452a-d105-53e18667f913"
      },
      "execution_count": null,
      "outputs": [
        {
          "output_type": "stream",
          "name": "stdout",
          "text": [
            "<class 'pandas.core.frame.DataFrame'>\n",
            "Int64Index: 17534 entries, 62321 to 66286\n",
            "Data columns (total 30 columns):\n",
            " #   Column                      Non-Null Count  Dtype  \n",
            "---  ------                      --------------  -----  \n",
            " 0   isFreePlan                  17534 non-null  bool   \n",
            " 1   isShownLowQualityIndicator  17534 non-null  bool   \n",
            " 2   isReported                  17534 non-null  bool   \n",
            " 3   adminDistrictId             15915 non-null  float64\n",
            " 4   roadId                      13 non-null     float64\n",
            " 5   districtId                  15915 non-null  float64\n",
            " 6   rooms                       17534 non-null  object \n",
            " 7   isVerifiedProAgency         17534 non-null  bool   \n",
            " 8   isPremium                   17534 non-null  bool   \n",
            " 9   details                     17534 non-null  object \n",
            " 10  regionId                    17534 non-null  int64  \n",
            " 11  developmentId               8945 non-null   float64\n",
            " 12  agencyName                  17534 non-null  object \n",
            " 13  galleryImagesCount          17534 non-null  int64  \n",
            " 14  agencyId                    17534 non-null  int64  \n",
            " 15  floorAreaCalculated         17534 non-null  float64\n",
            " 16  location                    17534 non-null  object \n",
            " 17  itemType                    17534 non-null  object \n",
            " 18  cityId                      17534 non-null  int64  \n",
            " 19  floor                       17534 non-null  object \n",
            " 20  closestStations             17534 non-null  object \n",
            " 21  apartmentSaleType           17534 non-null  object \n",
            " 22  station                     17534 non-null  object \n",
            " 23  roomsOrdinal                13531 non-null  float64\n",
            " 24  isStudio                    17534 non-null  bool   \n",
            " 25  metroId                     14454 non-null  float64\n",
            " 26  hasVideos                   17534 non-null  bool   \n",
            " 27  propertyType                17534 non-null  object \n",
            " 28  floorInt                    17534 non-null  int64  \n",
            " 29  floorArea                   17534 non-null  object \n",
            "dtypes: bool(7), float64(7), int64(5), object(11)\n",
            "memory usage: 3.3+ MB\n"
          ]
        }
      ]
    },
    {
      "cell_type": "code",
      "source": [
        "test_df.head()"
      ],
      "metadata": {
        "colab": {
          "base_uri": "https://localhost:8080/",
          "height": 591
        },
        "id": "gC5rcZbrfY3N",
        "outputId": "2ff2d526-ae2f-4d49-94d7-5db3918521c2"
      },
      "execution_count": null,
      "outputs": [
        {
          "output_type": "execute_result",
          "data": {
            "text/plain": [
              "       isFreePlan  isShownLowQualityIndicator  isReported  adminDistrictId  \\\n",
              "id                                                                           \n",
              "62321       False                       False       False              8.0   \n",
              "13154       False                       False       False             10.0   \n",
              "26935       False                       False       False             10.0   \n",
              "39371       False                       False       False              3.0   \n",
              "47540       False                       False       False              4.0   \n",
              "\n",
              "       roadId  districtId rooms  isVerifiedProAgency  isPremium   details  \\\n",
              "id                                                                          \n",
              "62321     NaN       562.0     1                False      False   38.6 м²   \n",
              "13154     NaN       523.0     3                False      False  125.2 м²   \n",
              "26935     NaN       522.0     1                False      False   53.1 м²   \n",
              "39371     NaN       509.0     3                False      False    106 м²   \n",
              "47540     NaN       581.0     1                False      False   15.5 м²   \n",
              "\n",
              "       ...                                    closestStations  \\\n",
              "id     ...                                                      \n",
              "62321  ...  [{'id': 540, 'stationType': 'Railway', 'distan...   \n",
              "13154  ...  [{'id': 319, 'stationType': 'Metro', 'distance...   \n",
              "26935  ...  [{'id': 764, 'stationType': 'Railway', 'distan...   \n",
              "39371  ...  [{'id': 56, 'stationType': 'Metro', 'distance'...   \n",
              "47540  ...  [{'id': 114, 'stationType': 'Metro', 'distance...   \n",
              "\n",
              "       apartmentSaleType                                            station  \\\n",
              "id                                                                            \n",
              "62321             Resale  {'id': 540, 'stationType': 'Railway', 'name': ...   \n",
              "13154             Resale  {'id': 319, 'stationType': 'Metro', 'name': 'Т...   \n",
              "26935                New  {'id': 764, 'stationType': 'Railway', 'name': ...   \n",
              "39371             Resale  {'id': 56, 'stationType': 'Metro', 'name': 'Ки...   \n",
              "47540             Resale  {'id': 114, 'stationType': 'Metro', 'name': 'Р...   \n",
              "\n",
              "       roomsOrdinal  isStudio  metroId hasVideos propertyType  floorInt  \\\n",
              "id                                                                        \n",
              "62321           1.0     False     58.0     False    Apartment        14   \n",
              "13154           3.0     False    319.0     False    Apartment        20   \n",
              "26935           1.0     False      NaN     False    Apartment        10   \n",
              "39371           3.0     False    153.0     False    Apartment         2   \n",
              "47540           1.0     False      NaN     False    Apartment         1   \n",
              "\n",
              "      floorArea  \n",
              "id               \n",
              "62321   38.6 м²  \n",
              "13154  125.2 м²  \n",
              "26935   53.1 м²  \n",
              "39371    106 м²  \n",
              "47540   15.5 м²  \n",
              "\n",
              "[5 rows x 30 columns]"
            ],
            "text/html": [
              "\n",
              "  <div id=\"df-7d57e6c8-4d03-4f7c-a247-4755b4891549\">\n",
              "    <div class=\"colab-df-container\">\n",
              "      <div>\n",
              "<style scoped>\n",
              "    .dataframe tbody tr th:only-of-type {\n",
              "        vertical-align: middle;\n",
              "    }\n",
              "\n",
              "    .dataframe tbody tr th {\n",
              "        vertical-align: top;\n",
              "    }\n",
              "\n",
              "    .dataframe thead th {\n",
              "        text-align: right;\n",
              "    }\n",
              "</style>\n",
              "<table border=\"1\" class=\"dataframe\">\n",
              "  <thead>\n",
              "    <tr style=\"text-align: right;\">\n",
              "      <th></th>\n",
              "      <th>isFreePlan</th>\n",
              "      <th>isShownLowQualityIndicator</th>\n",
              "      <th>isReported</th>\n",
              "      <th>adminDistrictId</th>\n",
              "      <th>roadId</th>\n",
              "      <th>districtId</th>\n",
              "      <th>rooms</th>\n",
              "      <th>isVerifiedProAgency</th>\n",
              "      <th>isPremium</th>\n",
              "      <th>details</th>\n",
              "      <th>...</th>\n",
              "      <th>closestStations</th>\n",
              "      <th>apartmentSaleType</th>\n",
              "      <th>station</th>\n",
              "      <th>roomsOrdinal</th>\n",
              "      <th>isStudio</th>\n",
              "      <th>metroId</th>\n",
              "      <th>hasVideos</th>\n",
              "      <th>propertyType</th>\n",
              "      <th>floorInt</th>\n",
              "      <th>floorArea</th>\n",
              "    </tr>\n",
              "    <tr>\n",
              "      <th>id</th>\n",
              "      <th></th>\n",
              "      <th></th>\n",
              "      <th></th>\n",
              "      <th></th>\n",
              "      <th></th>\n",
              "      <th></th>\n",
              "      <th></th>\n",
              "      <th></th>\n",
              "      <th></th>\n",
              "      <th></th>\n",
              "      <th></th>\n",
              "      <th></th>\n",
              "      <th></th>\n",
              "      <th></th>\n",
              "      <th></th>\n",
              "      <th></th>\n",
              "      <th></th>\n",
              "      <th></th>\n",
              "      <th></th>\n",
              "      <th></th>\n",
              "      <th></th>\n",
              "    </tr>\n",
              "  </thead>\n",
              "  <tbody>\n",
              "    <tr>\n",
              "      <th>62321</th>\n",
              "      <td>False</td>\n",
              "      <td>False</td>\n",
              "      <td>False</td>\n",
              "      <td>8.0</td>\n",
              "      <td>NaN</td>\n",
              "      <td>562.0</td>\n",
              "      <td>1</td>\n",
              "      <td>False</td>\n",
              "      <td>False</td>\n",
              "      <td>38.6 м²</td>\n",
              "      <td>...</td>\n",
              "      <td>[{'id': 540, 'stationType': 'Railway', 'distan...</td>\n",
              "      <td>Resale</td>\n",
              "      <td>{'id': 540, 'stationType': 'Railway', 'name': ...</td>\n",
              "      <td>1.0</td>\n",
              "      <td>False</td>\n",
              "      <td>58.0</td>\n",
              "      <td>False</td>\n",
              "      <td>Apartment</td>\n",
              "      <td>14</td>\n",
              "      <td>38.6 м²</td>\n",
              "    </tr>\n",
              "    <tr>\n",
              "      <th>13154</th>\n",
              "      <td>False</td>\n",
              "      <td>False</td>\n",
              "      <td>False</td>\n",
              "      <td>10.0</td>\n",
              "      <td>NaN</td>\n",
              "      <td>523.0</td>\n",
              "      <td>3</td>\n",
              "      <td>False</td>\n",
              "      <td>False</td>\n",
              "      <td>125.2 м²</td>\n",
              "      <td>...</td>\n",
              "      <td>[{'id': 319, 'stationType': 'Metro', 'distance...</td>\n",
              "      <td>Resale</td>\n",
              "      <td>{'id': 319, 'stationType': 'Metro', 'name': 'Т...</td>\n",
              "      <td>3.0</td>\n",
              "      <td>False</td>\n",
              "      <td>319.0</td>\n",
              "      <td>False</td>\n",
              "      <td>Apartment</td>\n",
              "      <td>20</td>\n",
              "      <td>125.2 м²</td>\n",
              "    </tr>\n",
              "    <tr>\n",
              "      <th>26935</th>\n",
              "      <td>False</td>\n",
              "      <td>False</td>\n",
              "      <td>False</td>\n",
              "      <td>10.0</td>\n",
              "      <td>NaN</td>\n",
              "      <td>522.0</td>\n",
              "      <td>1</td>\n",
              "      <td>False</td>\n",
              "      <td>False</td>\n",
              "      <td>53.1 м²</td>\n",
              "      <td>...</td>\n",
              "      <td>[{'id': 764, 'stationType': 'Railway', 'distan...</td>\n",
              "      <td>New</td>\n",
              "      <td>{'id': 764, 'stationType': 'Railway', 'name': ...</td>\n",
              "      <td>1.0</td>\n",
              "      <td>False</td>\n",
              "      <td>NaN</td>\n",
              "      <td>False</td>\n",
              "      <td>Apartment</td>\n",
              "      <td>10</td>\n",
              "      <td>53.1 м²</td>\n",
              "    </tr>\n",
              "    <tr>\n",
              "      <th>39371</th>\n",
              "      <td>False</td>\n",
              "      <td>False</td>\n",
              "      <td>False</td>\n",
              "      <td>3.0</td>\n",
              "      <td>NaN</td>\n",
              "      <td>509.0</td>\n",
              "      <td>3</td>\n",
              "      <td>False</td>\n",
              "      <td>False</td>\n",
              "      <td>106 м²</td>\n",
              "      <td>...</td>\n",
              "      <td>[{'id': 56, 'stationType': 'Metro', 'distance'...</td>\n",
              "      <td>Resale</td>\n",
              "      <td>{'id': 56, 'stationType': 'Metro', 'name': 'Ки...</td>\n",
              "      <td>3.0</td>\n",
              "      <td>False</td>\n",
              "      <td>153.0</td>\n",
              "      <td>False</td>\n",
              "      <td>Apartment</td>\n",
              "      <td>2</td>\n",
              "      <td>106 м²</td>\n",
              "    </tr>\n",
              "    <tr>\n",
              "      <th>47540</th>\n",
              "      <td>False</td>\n",
              "      <td>False</td>\n",
              "      <td>False</td>\n",
              "      <td>4.0</td>\n",
              "      <td>NaN</td>\n",
              "      <td>581.0</td>\n",
              "      <td>1</td>\n",
              "      <td>False</td>\n",
              "      <td>False</td>\n",
              "      <td>15.5 м²</td>\n",
              "      <td>...</td>\n",
              "      <td>[{'id': 114, 'stationType': 'Metro', 'distance...</td>\n",
              "      <td>Resale</td>\n",
              "      <td>{'id': 114, 'stationType': 'Metro', 'name': 'Р...</td>\n",
              "      <td>1.0</td>\n",
              "      <td>False</td>\n",
              "      <td>NaN</td>\n",
              "      <td>False</td>\n",
              "      <td>Apartment</td>\n",
              "      <td>1</td>\n",
              "      <td>15.5 м²</td>\n",
              "    </tr>\n",
              "  </tbody>\n",
              "</table>\n",
              "<p>5 rows × 30 columns</p>\n",
              "</div>\n",
              "      <button class=\"colab-df-convert\" onclick=\"convertToInteractive('df-7d57e6c8-4d03-4f7c-a247-4755b4891549')\"\n",
              "              title=\"Convert this dataframe to an interactive table.\"\n",
              "              style=\"display:none;\">\n",
              "        \n",
              "  <svg xmlns=\"http://www.w3.org/2000/svg\" height=\"24px\"viewBox=\"0 0 24 24\"\n",
              "       width=\"24px\">\n",
              "    <path d=\"M0 0h24v24H0V0z\" fill=\"none\"/>\n",
              "    <path d=\"M18.56 5.44l.94 2.06.94-2.06 2.06-.94-2.06-.94-.94-2.06-.94 2.06-2.06.94zm-11 1L8.5 8.5l.94-2.06 2.06-.94-2.06-.94L8.5 2.5l-.94 2.06-2.06.94zm10 10l.94 2.06.94-2.06 2.06-.94-2.06-.94-.94-2.06-.94 2.06-2.06.94z\"/><path d=\"M17.41 7.96l-1.37-1.37c-.4-.4-.92-.59-1.43-.59-.52 0-1.04.2-1.43.59L10.3 9.45l-7.72 7.72c-.78.78-.78 2.05 0 2.83L4 21.41c.39.39.9.59 1.41.59.51 0 1.02-.2 1.41-.59l7.78-7.78 2.81-2.81c.8-.78.8-2.07 0-2.86zM5.41 20L4 18.59l7.72-7.72 1.47 1.35L5.41 20z\"/>\n",
              "  </svg>\n",
              "      </button>\n",
              "      \n",
              "  <style>\n",
              "    .colab-df-container {\n",
              "      display:flex;\n",
              "      flex-wrap:wrap;\n",
              "      gap: 12px;\n",
              "    }\n",
              "\n",
              "    .colab-df-convert {\n",
              "      background-color: #E8F0FE;\n",
              "      border: none;\n",
              "      border-radius: 50%;\n",
              "      cursor: pointer;\n",
              "      display: none;\n",
              "      fill: #1967D2;\n",
              "      height: 32px;\n",
              "      padding: 0 0 0 0;\n",
              "      width: 32px;\n",
              "    }\n",
              "\n",
              "    .colab-df-convert:hover {\n",
              "      background-color: #E2EBFA;\n",
              "      box-shadow: 0px 1px 2px rgba(60, 64, 67, 0.3), 0px 1px 3px 1px rgba(60, 64, 67, 0.15);\n",
              "      fill: #174EA6;\n",
              "    }\n",
              "\n",
              "    [theme=dark] .colab-df-convert {\n",
              "      background-color: #3B4455;\n",
              "      fill: #D2E3FC;\n",
              "    }\n",
              "\n",
              "    [theme=dark] .colab-df-convert:hover {\n",
              "      background-color: #434B5C;\n",
              "      box-shadow: 0px 1px 3px 1px rgba(0, 0, 0, 0.15);\n",
              "      filter: drop-shadow(0px 1px 2px rgba(0, 0, 0, 0.3));\n",
              "      fill: #FFFFFF;\n",
              "    }\n",
              "  </style>\n",
              "\n",
              "      <script>\n",
              "        const buttonEl =\n",
              "          document.querySelector('#df-7d57e6c8-4d03-4f7c-a247-4755b4891549 button.colab-df-convert');\n",
              "        buttonEl.style.display =\n",
              "          google.colab.kernel.accessAllowed ? 'block' : 'none';\n",
              "\n",
              "        async function convertToInteractive(key) {\n",
              "          const element = document.querySelector('#df-7d57e6c8-4d03-4f7c-a247-4755b4891549');\n",
              "          const dataTable =\n",
              "            await google.colab.kernel.invokeFunction('convertToInteractive',\n",
              "                                                     [key], {});\n",
              "          if (!dataTable) return;\n",
              "\n",
              "          const docLinkHtml = 'Like what you see? Visit the ' +\n",
              "            '<a target=\"_blank\" href=https://colab.research.google.com/notebooks/data_table.ipynb>data table notebook</a>'\n",
              "            + ' to learn more about interactive tables.';\n",
              "          element.innerHTML = '';\n",
              "          dataTable['output_type'] = 'display_data';\n",
              "          await google.colab.output.renderOutput(dataTable, element);\n",
              "          const docLink = document.createElement('div');\n",
              "          docLink.innerHTML = docLinkHtml;\n",
              "          element.appendChild(docLink);\n",
              "        }\n",
              "      </script>\n",
              "    </div>\n",
              "  </div>\n",
              "  "
            ]
          },
          "metadata": {},
          "execution_count": 10
        }
      ]
    },
    {
      "cell_type": "code",
      "source": [
        "plt.figure(figsize=(14,10))\n",
        "sns.histplot(np.log10(train_df['priceValue']).rename('log10(price)'))\n",
        "plt.show()"
      ],
      "metadata": {
        "colab": {
          "base_uri": "https://localhost:8080/",
          "height": 606
        },
        "id": "WWpoVAroMdML",
        "outputId": "5a61c46b-d52f-49a5-9f07-6b1a72caee72"
      },
      "execution_count": null,
      "outputs": [
        {
          "output_type": "display_data",
          "data": {
            "text/plain": [
              "<Figure size 1008x720 with 1 Axes>"
            ],
            "image/png": "[encoded data removed]"
          },
          "metadata": {
            "needs_background": "light"
          }
        }
      ]
    },
    {
      "cell_type": "markdown",
      "source": [
        "#Обработаем датасет"
      ],
      "metadata": {
        "id": "9uJyVqv5btaL"
      }
    },
    {
      "cell_type": "markdown",
      "source": [
        "Удалим дублирующие колонки (площадь квартиры)"
      ],
      "metadata": {
        "id": "l0FPzxvfcfzC"
      }
    },
    {
      "cell_type": "code",
      "source": [
        "print(train_df[['floorAreaCalculated', 'floorArea', 'details']].head(3))\n",
        "print(test_df[['floorAreaCalculated', 'floorArea', 'details']].head(3))"
      ],
      "metadata": {
        "colab": {
          "base_uri": "https://localhost:8080/"
        },
        "id": "J2nOkKhmceAd",
        "outputId": "dd764d52-6509-4904-a004-2cd77c765747"
      },
      "execution_count": null,
      "outputs": [
        {
          "output_type": "stream",
          "name": "stdout",
          "text": [
            "       floorAreaCalculated floorArea  details\n",
            "id                                           \n",
            "45673                 57.5   57.5 м²  57.5 м²\n",
            "27729                 35.0     35 м²    35 м²\n",
            "72599                 21.5   21.5 м²  21.5 м²\n",
            "       floorAreaCalculated floorArea   details\n",
            "id                                            \n",
            "62321                 38.6   38.6 м²   38.6 м²\n",
            "13154                125.2  125.2 м²  125.2 м²\n",
            "26935                 53.1   53.1 м²   53.1 м²\n"
          ]
        }
      ]
    },
    {
      "cell_type": "code",
      "source": [
        "train_df = train_df.drop(columns=['floorArea', 'details'])\n",
        "test_df = test_df.drop(columns=['floorArea', 'details'])"
      ],
      "metadata": {
        "id": "-IWVq7ktcAZO"
      },
      "execution_count": null,
      "outputs": []
    },
    {
      "cell_type": "markdown",
      "source": [
        "Удалим колонку rooms, т.к. она дублирует roomsOrdinal и isStudio"
      ],
      "metadata": {
        "id": "lB9zQMLbcwPl"
      }
    },
    {
      "cell_type": "code",
      "source": [
        "train_df[['rooms', 'roomsOrdinal', 'isStudio']].head()"
      ],
      "metadata": {
        "colab": {
          "base_uri": "https://localhost:8080/",
          "height": 238
        },
        "id": "zxXon8HZcMk4",
        "outputId": "ef65a4ad-388a-4de2-9229-8c1ad9c2a325"
      },
      "execution_count": null,
      "outputs": [
        {
          "output_type": "execute_result",
          "data": {
            "text/plain": [
              "        rooms  roomsOrdinal  isStudio\n",
              "id                                   \n",
              "45673       1           1.0     False\n",
              "27729  Студия           NaN      True\n",
              "72599  Студия           NaN      True\n",
              "46172       4           4.0     False\n",
              "17852       2           2.0     False"
            ],
            "text/html": [
              "\n",
              "  <div id=\"df-4fbfd7f1-ef4d-4649-9fea-b80ef443b7d5\">\n",
              "    <div class=\"colab-df-container\">\n",
              "      <div>\n",
              "<style scoped>\n",
              "    .dataframe tbody tr th:only-of-type {\n",
              "        vertical-align: middle;\n",
              "    }\n",
              "\n",
              "    .dataframe tbody tr th {\n",
              "        vertical-align: top;\n",
              "    }\n",
              "\n",
              "    .dataframe thead th {\n",
              "        text-align: right;\n",
              "    }\n",
              "</style>\n",
              "<table border=\"1\" class=\"dataframe\">\n",
              "  <thead>\n",
              "    <tr style=\"text-align: right;\">\n",
              "      <th></th>\n",
              "      <th>rooms</th>\n",
              "      <th>roomsOrdinal</th>\n",
              "      <th>isStudio</th>\n",
              "    </tr>\n",
              "    <tr>\n",
              "      <th>id</th>\n",
              "      <th></th>\n",
              "      <th></th>\n",
              "      <th></th>\n",
              "    </tr>\n",
              "  </thead>\n",
              "  <tbody>\n",
              "    <tr>\n",
              "      <th>45673</th>\n",
              "      <td>1</td>\n",
              "      <td>1.0</td>\n",
              "      <td>False</td>\n",
              "    </tr>\n",
              "    <tr>\n",
              "      <th>27729</th>\n",
              "      <td>Студия</td>\n",
              "      <td>NaN</td>\n",
              "      <td>True</td>\n",
              "    </tr>\n",
              "    <tr>\n",
              "      <th>72599</th>\n",
              "      <td>Студия</td>\n",
              "      <td>NaN</td>\n",
              "      <td>True</td>\n",
              "    </tr>\n",
              "    <tr>\n",
              "      <th>46172</th>\n",
              "      <td>4</td>\n",
              "      <td>4.0</td>\n",
              "      <td>False</td>\n",
              "    </tr>\n",
              "    <tr>\n",
              "      <th>17852</th>\n",
              "      <td>2</td>\n",
              "      <td>2.0</td>\n",
              "      <td>False</td>\n",
              "    </tr>\n",
              "  </tbody>\n",
              "</table>\n",
              "</div>\n",
              "      <button class=\"colab-df-convert\" onclick=\"convertToInteractive('df-4fbfd7f1-ef4d-4649-9fea-b80ef443b7d5')\"\n",
              "              title=\"Convert this dataframe to an interactive table.\"\n",
              "              style=\"display:none;\">\n",
              "        \n",
              "  <svg xmlns=\"http://www.w3.org/2000/svg\" height=\"24px\"viewBox=\"0 0 24 24\"\n",
              "       width=\"24px\">\n",
              "    <path d=\"M0 0h24v24H0V0z\" fill=\"none\"/>\n",
              "    <path d=\"M18.56 5.44l.94 2.06.94-2.06 2.06-.94-2.06-.94-.94-2.06-.94 2.06-2.06.94zm-11 1L8.5 8.5l.94-2.06 2.06-.94-2.06-.94L8.5 2.5l-.94 2.06-2.06.94zm10 10l.94 2.06.94-2.06 2.06-.94-2.06-.94-.94-2.06-.94 2.06-2.06.94z\"/><path d=\"M17.41 7.96l-1.37-1.37c-.4-.4-.92-.59-1.43-.59-.52 0-1.04.2-1.43.59L10.3 9.45l-7.72 7.72c-.78.78-.78 2.05 0 2.83L4 21.41c.39.39.9.59 1.41.59.51 0 1.02-.2 1.41-.59l7.78-7.78 2.81-2.81c.8-.78.8-2.07 0-2.86zM5.41 20L4 18.59l7.72-7.72 1.47 1.35L5.41 20z\"/>\n",
              "  </svg>\n",
              "      </button>\n",
              "      \n",
              "  <style>\n",
              "    .colab-df-container {\n",
              "      display:flex;\n",
              "      flex-wrap:wrap;\n",
              "      gap: 12px;\n",
              "    }\n",
              "\n",
              "    .colab-df-convert {\n",
              "      background-color: #E8F0FE;\n",
              "      border: none;\n",
              "      border-radius: 50%;\n",
              "      cursor: pointer;\n",
              "      display: none;\n",
              "      fill: #1967D2;\n",
              "      height: 32px;\n",
              "      padding: 0 0 0 0;\n",
              "      width: 32px;\n",
              "    }\n",
              "\n",
              "    .colab-df-convert:hover {\n",
              "      background-color: #E2EBFA;\n",
              "      box-shadow: 0px 1px 2px rgba(60, 64, 67, 0.3), 0px 1px 3px 1px rgba(60, 64, 67, 0.15);\n",
              "      fill: #174EA6;\n",
              "    }\n",
              "\n",
              "    [theme=dark] .colab-df-convert {\n",
              "      background-color: #3B4455;\n",
              "      fill: #D2E3FC;\n",
              "    }\n",
              "\n",
              "    [theme=dark] .colab-df-convert:hover {\n",
              "      background-color: #434B5C;\n",
              "      box-shadow: 0px 1px 3px 1px rgba(0, 0, 0, 0.15);\n",
              "      filter: drop-shadow(0px 1px 2px rgba(0, 0, 0, 0.3));\n",
              "      fill: #FFFFFF;\n",
              "    }\n",
              "  </style>\n",
              "\n",
              "      <script>\n",
              "        const buttonEl =\n",
              "          document.querySelector('#df-4fbfd7f1-ef4d-4649-9fea-b80ef443b7d5 button.colab-df-convert');\n",
              "        buttonEl.style.display =\n",
              "          google.colab.kernel.accessAllowed ? 'block' : 'none';\n",
              "\n",
              "        async function convertToInteractive(key) {\n",
              "          const element = document.querySelector('#df-4fbfd7f1-ef4d-4649-9fea-b80ef443b7d5');\n",
              "          const dataTable =\n",
              "            await google.colab.kernel.invokeFunction('convertToInteractive',\n",
              "                                                     [key], {});\n",
              "          if (!dataTable) return;\n",
              "\n",
              "          const docLinkHtml = 'Like what you see? Visit the ' +\n",
              "            '<a target=\"_blank\" href=https://colab.research.google.com/notebooks/data_table.ipynb>data table notebook</a>'\n",
              "            + ' to learn more about interactive tables.';\n",
              "          element.innerHTML = '';\n",
              "          dataTable['output_type'] = 'display_data';\n",
              "          await google.colab.output.renderOutput(dataTable, element);\n",
              "          const docLink = document.createElement('div');\n",
              "          docLink.innerHTML = docLinkHtml;\n",
              "          element.appendChild(docLink);\n",
              "        }\n",
              "      </script>\n",
              "    </div>\n",
              "  </div>\n",
              "  "
            ]
          },
          "metadata": {},
          "execution_count": 84
        }
      ]
    },
    {
      "cell_type": "code",
      "source": [
        "train_df[train_df['isStudio'] == True]['priceValue'].describe().map('{:.2f}'.format)"
      ],
      "metadata": {
        "colab": {
          "base_uri": "https://localhost:8080/"
        },
        "id": "T2eVPPytIpIi",
        "outputId": "66fe1024-ad4c-474f-95cd-7bbf82833b3a"
      },
      "execution_count": null,
      "outputs": [
        {
          "output_type": "execute_result",
          "data": {
            "text/plain": [
              "count       15704.00\n",
              "mean      6618536.77\n",
              "std       3889315.14\n",
              "min       1600000.00\n",
              "25%       4200000.00\n",
              "50%       5700000.00\n",
              "75%       8000000.00\n",
              "max      95000000.00\n",
              "Name: priceValue, dtype: object"
            ]
          },
          "metadata": {},
          "execution_count": 85
        }
      ]
    },
    {
      "cell_type": "code",
      "source": [
        "train_df[train_df['isStudio'] == False]['priceValue'].describe().map('{:.2f}'.format)"
      ],
      "metadata": {
        "colab": {
          "base_uri": "https://localhost:8080/"
        },
        "id": "Fv0ag8zJHcl2",
        "outputId": "16d1bd19-cd5d-4b65-f4a8-ffea34db2beb"
      },
      "execution_count": null,
      "outputs": [
        {
          "output_type": "execute_result",
          "data": {
            "text/plain": [
              "count        54429.00\n",
              "mean      22470417.69\n",
              "std       16458265.27\n",
              "min          15000.00\n",
              "25%       11996710.00\n",
              "50%       16900000.00\n",
              "75%       26626614.00\n",
              "max      100000000.00\n",
              "Name: priceValue, dtype: object"
            ]
          },
          "metadata": {},
          "execution_count": 86
        }
      ]
    },
    {
      "cell_type": "code",
      "source": [
        "train_df = train_df.drop(columns=['rooms'])\n",
        "train_df['roomsOrdinal'] = train_df['roomsOrdinal'].fillna(1).astype(int)\n",
        "\n",
        "test_df = test_df.drop(columns=['rooms'])\n",
        "test_df['roomsOrdinal'] = test_df['roomsOrdinal'].fillna(1).astype(int)"
      ],
      "metadata": {
        "id": "MG3SkeAad7WI"
      },
      "execution_count": null,
      "outputs": []
    },
    {
      "cell_type": "markdown",
      "source": [
        "Добавим новую колонку - количество этажей в здании"
      ],
      "metadata": {
        "id": "kyBV9mXatoIR"
      }
    },
    {
      "cell_type": "code",
      "source": [
        "train_df[['floor', 'floorInt']].head()"
      ],
      "metadata": {
        "colab": {
          "base_uri": "https://localhost:8080/",
          "height": 238
        },
        "id": "cIqZD9jJfEy7",
        "outputId": "9aa997f2-13ac-4927-d69f-3b9976bdc2ce"
      },
      "execution_count": null,
      "outputs": [
        {
          "output_type": "execute_result",
          "data": {
            "text/plain": [
              "       floor  floorInt\n",
              "id                    \n",
              "45673   5/10         5\n",
              "27729  41/53        41\n",
              "72599    1/5         1\n",
              "46172  48/52        48\n",
              "17852    5/5         5"
            ],
            "text/html": [
              "\n",
              "  <div id=\"df-681ce10b-f7d3-4c29-857c-a6b0f70e8861\">\n",
              "    <div class=\"colab-df-container\">\n",
              "      <div>\n",
              "<style scoped>\n",
              "    .dataframe tbody tr th:only-of-type {\n",
              "        vertical-align: middle;\n",
              "    }\n",
              "\n",
              "    .dataframe tbody tr th {\n",
              "        vertical-align: top;\n",
              "    }\n",
              "\n",
              "    .dataframe thead th {\n",
              "        text-align: right;\n",
              "    }\n",
              "</style>\n",
              "<table border=\"1\" class=\"dataframe\">\n",
              "  <thead>\n",
              "    <tr style=\"text-align: right;\">\n",
              "      <th></th>\n",
              "      <th>floor</th>\n",
              "      <th>floorInt</th>\n",
              "    </tr>\n",
              "    <tr>\n",
              "      <th>id</th>\n",
              "      <th></th>\n",
              "      <th></th>\n",
              "    </tr>\n",
              "  </thead>\n",
              "  <tbody>\n",
              "    <tr>\n",
              "      <th>45673</th>\n",
              "      <td>5/10</td>\n",
              "      <td>5</td>\n",
              "    </tr>\n",
              "    <tr>\n",
              "      <th>27729</th>\n",
              "      <td>41/53</td>\n",
              "      <td>41</td>\n",
              "    </tr>\n",
              "    <tr>\n",
              "      <th>72599</th>\n",
              "      <td>1/5</td>\n",
              "      <td>1</td>\n",
              "    </tr>\n",
              "    <tr>\n",
              "      <th>46172</th>\n",
              "      <td>48/52</td>\n",
              "      <td>48</td>\n",
              "    </tr>\n",
              "    <tr>\n",
              "      <th>17852</th>\n",
              "      <td>5/5</td>\n",
              "      <td>5</td>\n",
              "    </tr>\n",
              "  </tbody>\n",
              "</table>\n",
              "</div>\n",
              "      <button class=\"colab-df-convert\" onclick=\"convertToInteractive('df-681ce10b-f7d3-4c29-857c-a6b0f70e8861')\"\n",
              "              title=\"Convert this dataframe to an interactive table.\"\n",
              "              style=\"display:none;\">\n",
              "        \n",
              "  <svg xmlns=\"http://www.w3.org/2000/svg\" height=\"24px\"viewBox=\"0 0 24 24\"\n",
              "       width=\"24px\">\n",
              "    <path d=\"M0 0h24v24H0V0z\" fill=\"none\"/>\n",
              "    <path d=\"M18.56 5.44l.94 2.06.94-2.06 2.06-.94-2.06-.94-.94-2.06-.94 2.06-2.06.94zm-11 1L8.5 8.5l.94-2.06 2.06-.94-2.06-.94L8.5 2.5l-.94 2.06-2.06.94zm10 10l.94 2.06.94-2.06 2.06-.94-2.06-.94-.94-2.06-.94 2.06-2.06.94z\"/><path d=\"M17.41 7.96l-1.37-1.37c-.4-.4-.92-.59-1.43-.59-.52 0-1.04.2-1.43.59L10.3 9.45l-7.72 7.72c-.78.78-.78 2.05 0 2.83L4 21.41c.39.39.9.59 1.41.59.51 0 1.02-.2 1.41-.59l7.78-7.78 2.81-2.81c.8-.78.8-2.07 0-2.86zM5.41 20L4 18.59l7.72-7.72 1.47 1.35L5.41 20z\"/>\n",
              "  </svg>\n",
              "      </button>\n",
              "      \n",
              "  <style>\n",
              "    .colab-df-container {\n",
              "      display:flex;\n",
              "      flex-wrap:wrap;\n",
              "      gap: 12px;\n",
              "    }\n",
              "\n",
              "    .colab-df-convert {\n",
              "      background-color: #E8F0FE;\n",
              "      border: none;\n",
              "      border-radius: 50%;\n",
              "      cursor: pointer;\n",
              "      display: none;\n",
              "      fill: #1967D2;\n",
              "      height: 32px;\n",
              "      padding: 0 0 0 0;\n",
              "      width: 32px;\n",
              "    }\n",
              "\n",
              "    .colab-df-convert:hover {\n",
              "      background-color: #E2EBFA;\n",
              "      box-shadow: 0px 1px 2px rgba(60, 64, 67, 0.3), 0px 1px 3px 1px rgba(60, 64, 67, 0.15);\n",
              "      fill: #174EA6;\n",
              "    }\n",
              "\n",
              "    [theme=dark] .colab-df-convert {\n",
              "      background-color: #3B4455;\n",
              "      fill: #D2E3FC;\n",
              "    }\n",
              "\n",
              "    [theme=dark] .colab-df-convert:hover {\n",
              "      background-color: #434B5C;\n",
              "      box-shadow: 0px 1px 3px 1px rgba(0, 0, 0, 0.15);\n",
              "      filter: drop-shadow(0px 1px 2px rgba(0, 0, 0, 0.3));\n",
              "      fill: #FFFFFF;\n",
              "    }\n",
              "  </style>\n",
              "\n",
              "      <script>\n",
              "        const buttonEl =\n",
              "          document.querySelector('#df-681ce10b-f7d3-4c29-857c-a6b0f70e8861 button.colab-df-convert');\n",
              "        buttonEl.style.display =\n",
              "          google.colab.kernel.accessAllowed ? 'block' : 'none';\n",
              "\n",
              "        async function convertToInteractive(key) {\n",
              "          const element = document.querySelector('#df-681ce10b-f7d3-4c29-857c-a6b0f70e8861');\n",
              "          const dataTable =\n",
              "            await google.colab.kernel.invokeFunction('convertToInteractive',\n",
              "                                                     [key], {});\n",
              "          if (!dataTable) return;\n",
              "\n",
              "          const docLinkHtml = 'Like what you see? Visit the ' +\n",
              "            '<a target=\"_blank\" href=https://colab.research.google.com/notebooks/data_table.ipynb>data table notebook</a>'\n",
              "            + ' to learn more about interactive tables.';\n",
              "          element.innerHTML = '';\n",
              "          dataTable['output_type'] = 'display_data';\n",
              "          await google.colab.output.renderOutput(dataTable, element);\n",
              "          const docLink = document.createElement('div');\n",
              "          docLink.innerHTML = docLinkHtml;\n",
              "          element.appendChild(docLink);\n",
              "        }\n",
              "      </script>\n",
              "    </div>\n",
              "  </div>\n",
              "  "
            ]
          },
          "metadata": {},
          "execution_count": 88
        }
      ]
    },
    {
      "cell_type": "code",
      "source": [
        "train_df['totalFloors'] = train_df['floor'].apply(lambda x: int(x.split('/')[-1]))\n",
        "test_df['totalFloors'] = test_df['floor'].apply(lambda x: int(x.split('/')[-1]))"
      ],
      "metadata": {
        "id": "ehDfBEpotqVU"
      },
      "execution_count": null,
      "outputs": []
    },
    {
      "cell_type": "code",
      "source": [
        "train_df = train_df.drop(columns=['floor'])\n",
        "test_df = test_df.drop(columns=['floor'])"
      ],
      "metadata": {
        "id": "9tRxei8iu3zU"
      },
      "execution_count": null,
      "outputs": []
    },
    {
      "cell_type": "code",
      "source": [
        "train_df[['floorInt', 'totalFloors']].head()"
      ],
      "metadata": {
        "colab": {
          "base_uri": "https://localhost:8080/",
          "height": 238
        },
        "id": "oeV80oBxum_K",
        "outputId": "5c6f47f1-7c04-458b-9417-37f0abb64dee"
      },
      "execution_count": null,
      "outputs": [
        {
          "output_type": "execute_result",
          "data": {
            "text/plain": [
              "       floorInt  totalFloors\n",
              "id                          \n",
              "45673         5           10\n",
              "27729        41           53\n",
              "72599         1            5\n",
              "46172        48           52\n",
              "17852         5            5"
            ],
            "text/html": [
              "\n",
              "  <div id=\"df-05b8aac7-b4cc-4a45-831a-8784bba5c986\">\n",
              "    <div class=\"colab-df-container\">\n",
              "      <div>\n",
              "<style scoped>\n",
              "    .dataframe tbody tr th:only-of-type {\n",
              "        vertical-align: middle;\n",
              "    }\n",
              "\n",
              "    .dataframe tbody tr th {\n",
              "        vertical-align: top;\n",
              "    }\n",
              "\n",
              "    .dataframe thead th {\n",
              "        text-align: right;\n",
              "    }\n",
              "</style>\n",
              "<table border=\"1\" class=\"dataframe\">\n",
              "  <thead>\n",
              "    <tr style=\"text-align: right;\">\n",
              "      <th></th>\n",
              "      <th>floorInt</th>\n",
              "      <th>totalFloors</th>\n",
              "    </tr>\n",
              "    <tr>\n",
              "      <th>id</th>\n",
              "      <th></th>\n",
              "      <th></th>\n",
              "    </tr>\n",
              "  </thead>\n",
              "  <tbody>\n",
              "    <tr>\n",
              "      <th>45673</th>\n",
              "      <td>5</td>\n",
              "      <td>10</td>\n",
              "    </tr>\n",
              "    <tr>\n",
              "      <th>27729</th>\n",
              "      <td>41</td>\n",
              "      <td>53</td>\n",
              "    </tr>\n",
              "    <tr>\n",
              "      <th>72599</th>\n",
              "      <td>1</td>\n",
              "      <td>5</td>\n",
              "    </tr>\n",
              "    <tr>\n",
              "      <th>46172</th>\n",
              "      <td>48</td>\n",
              "      <td>52</td>\n",
              "    </tr>\n",
              "    <tr>\n",
              "      <th>17852</th>\n",
              "      <td>5</td>\n",
              "      <td>5</td>\n",
              "    </tr>\n",
              "  </tbody>\n",
              "</table>\n",
              "</div>\n",
              "      <button class=\"colab-df-convert\" onclick=\"convertToInteractive('df-05b8aac7-b4cc-4a45-831a-8784bba5c986')\"\n",
              "              title=\"Convert this dataframe to an interactive table.\"\n",
              "              style=\"display:none;\">\n",
              "        \n",
              "  <svg xmlns=\"http://www.w3.org/2000/svg\" height=\"24px\"viewBox=\"0 0 24 24\"\n",
              "       width=\"24px\">\n",
              "    <path d=\"M0 0h24v24H0V0z\" fill=\"none\"/>\n",
              "    <path d=\"M18.56 5.44l.94 2.06.94-2.06 2.06-.94-2.06-.94-.94-2.06-.94 2.06-2.06.94zm-11 1L8.5 8.5l.94-2.06 2.06-.94-2.06-.94L8.5 2.5l-.94 2.06-2.06.94zm10 10l.94 2.06.94-2.06 2.06-.94-2.06-.94-.94-2.06-.94 2.06-2.06.94z\"/><path d=\"M17.41 7.96l-1.37-1.37c-.4-.4-.92-.59-1.43-.59-.52 0-1.04.2-1.43.59L10.3 9.45l-7.72 7.72c-.78.78-.78 2.05 0 2.83L4 21.41c.39.39.9.59 1.41.59.51 0 1.02-.2 1.41-.59l7.78-7.78 2.81-2.81c.8-.78.8-2.07 0-2.86zM5.41 20L4 18.59l7.72-7.72 1.47 1.35L5.41 20z\"/>\n",
              "  </svg>\n",
              "      </button>\n",
              "      \n",
              "  <style>\n",
              "    .colab-df-container {\n",
              "      display:flex;\n",
              "      flex-wrap:wrap;\n",
              "      gap: 12px;\n",
              "    }\n",
              "\n",
              "    .colab-df-convert {\n",
              "      background-color: #E8F0FE;\n",
              "      border: none;\n",
              "      border-radius: 50%;\n",
              "      cursor: pointer;\n",
              "      display: none;\n",
              "      fill: #1967D2;\n",
              "      height: 32px;\n",
              "      padding: 0 0 0 0;\n",
              "      width: 32px;\n",
              "    }\n",
              "\n",
              "    .colab-df-convert:hover {\n",
              "      background-color: #E2EBFA;\n",
              "      box-shadow: 0px 1px 2px rgba(60, 64, 67, 0.3), 0px 1px 3px 1px rgba(60, 64, 67, 0.15);\n",
              "      fill: #174EA6;\n",
              "    }\n",
              "\n",
              "    [theme=dark] .colab-df-convert {\n",
              "      background-color: #3B4455;\n",
              "      fill: #D2E3FC;\n",
              "    }\n",
              "\n",
              "    [theme=dark] .colab-df-convert:hover {\n",
              "      background-color: #434B5C;\n",
              "      box-shadow: 0px 1px 3px 1px rgba(0, 0, 0, 0.15);\n",
              "      filter: drop-shadow(0px 1px 2px rgba(0, 0, 0, 0.3));\n",
              "      fill: #FFFFFF;\n",
              "    }\n",
              "  </style>\n",
              "\n",
              "      <script>\n",
              "        const buttonEl =\n",
              "          document.querySelector('#df-05b8aac7-b4cc-4a45-831a-8784bba5c986 button.colab-df-convert');\n",
              "        buttonEl.style.display =\n",
              "          google.colab.kernel.accessAllowed ? 'block' : 'none';\n",
              "\n",
              "        async function convertToInteractive(key) {\n",
              "          const element = document.querySelector('#df-05b8aac7-b4cc-4a45-831a-8784bba5c986');\n",
              "          const dataTable =\n",
              "            await google.colab.kernel.invokeFunction('convertToInteractive',\n",
              "                                                     [key], {});\n",
              "          if (!dataTable) return;\n",
              "\n",
              "          const docLinkHtml = 'Like what you see? Visit the ' +\n",
              "            '<a target=\"_blank\" href=https://colab.research.google.com/notebooks/data_table.ipynb>data table notebook</a>'\n",
              "            + ' to learn more about interactive tables.';\n",
              "          element.innerHTML = '';\n",
              "          dataTable['output_type'] = 'display_data';\n",
              "          await google.colab.output.renderOutput(dataTable, element);\n",
              "          const docLink = document.createElement('div');\n",
              "          docLink.innerHTML = docLinkHtml;\n",
              "          element.appendChild(docLink);\n",
              "        }\n",
              "      </script>\n",
              "    </div>\n",
              "  </div>\n",
              "  "
            ]
          },
          "metadata": {},
          "execution_count": 91
        }
      ]
    },
    {
      "cell_type": "markdown",
      "source": [
        "Удалим roadId, слишком много пропущенных значений"
      ],
      "metadata": {
        "id": "FauZlwXtvXLB"
      }
    },
    {
      "cell_type": "code",
      "source": [
        "train_df = train_df.drop(columns=['roadId'])\n",
        "test_df = test_df.drop(columns=['roadId'])"
      ],
      "metadata": {
        "id": "hXKS_CmavEmW"
      },
      "execution_count": null,
      "outputs": []
    },
    {
      "cell_type": "markdown",
      "source": [
        "Создадим новые признаки из closestStations"
      ],
      "metadata": {
        "id": "mhQZIDzpyAf2"
      }
    },
    {
      "cell_type": "code",
      "source": [
        "train_df['closestStations'] = train_df['closestStations'].apply(lambda s: json.loads(s.replace(\"'\", \"\\\"\")))\n",
        "test_df['closestStations'] = test_df['closestStations'].apply(lambda s: json.loads(s.replace(\"'\", \"\\\"\")))"
      ],
      "metadata": {
        "id": "I3nnEuL6yDHe"
      },
      "execution_count": null,
      "outputs": []
    },
    {
      "cell_type": "code",
      "source": [
        "print(train_df['closestStations'].apply(lambda d: d[0]['distance']).max())\n",
        "print(test_df['closestStations'].apply(lambda d: d[0]['distance']).max())"
      ],
      "metadata": {
        "colab": {
          "base_uri": "https://localhost:8080/"
        },
        "id": "4khd40SC2CEh",
        "outputId": "e5b38650-f43e-451b-bf9e-05a140061347"
      },
      "execution_count": null,
      "outputs": [
        {
          "output_type": "stream",
          "name": "stdout",
          "text": [
            "4999\n",
            "4987\n"
          ]
        }
      ]
    },
    {
      "cell_type": "code",
      "source": [
        "train_df['station'] = train_df['station'].apply(lambda s: json.loads(s.replace(\"'\", \"\\\"\")))\n",
        "test_df['station'] = test_df['station'].apply(lambda s: json.loads(s.replace(\"'\", \"\\\"\")))"
      ],
      "metadata": {
        "id": "iH_7fldxK6Lh"
      },
      "execution_count": null,
      "outputs": []
    },
    {
      "cell_type": "markdown",
      "source": [
        "Станция считается близлежащей, если расстояние до нее меньше 5 км"
      ],
      "metadata": {
        "id": "7yoi2eJE2M1Y"
      }
    },
    {
      "cell_type": "code",
      "source": [
        "train_df['numberStations'] = train_df['closestStations'].map(lambda d: len(d))\n",
        "test_df['numberStations'] = test_df['closestStations'].map(lambda d: len(d))"
      ],
      "metadata": {
        "id": "WUMPTZEg2MEH"
      },
      "execution_count": null,
      "outputs": []
    },
    {
      "cell_type": "code",
      "source": [
        "train_df['closestStationId'] = train_df['closestStations'].map(lambda d: d[0]['id'])\n",
        "test_df['closestStationId'] = test_df['closestStations'].map(lambda d: d[0]['id'])\n",
        "\n",
        "train_df = train_df.drop(columns=['metroId'])\n",
        "test_df = test_df.drop(columns=['metroId'])"
      ],
      "metadata": {
        "id": "liM5jyB-3KSG"
      },
      "execution_count": null,
      "outputs": []
    },
    {
      "cell_type": "code",
      "source": [
        "train_df['closestStationType'] = train_df['closestStations'].map(lambda d: d[0]['stationType'])\n",
        "test_df['closestStationType'] = test_df['closestStations'].map(lambda d: d[0]['stationType'])"
      ],
      "metadata": {
        "id": "Zhf4y8TK3Y3P"
      },
      "execution_count": null,
      "outputs": []
    },
    {
      "cell_type": "code",
      "source": [
        "train_df['closestStationDistance'] = train_df['closestStations'].map(lambda d: d[0]['distance'])\n",
        "test_df['closestStationDistance'] = test_df['closestStations'].map(lambda d: d[0]['distance'])"
      ],
      "metadata": {
        "id": "ciIP4Ibu3xQF"
      },
      "execution_count": null,
      "outputs": []
    },
    {
      "cell_type": "code",
      "source": [
        "train_df['station'].iloc[0]"
      ],
      "metadata": {
        "colab": {
          "base_uri": "https://localhost:8080/"
        },
        "id": "jAZSt68EKrnM",
        "outputId": "addd1ee3-92df-45e2-fc9a-c00ac5433441"
      },
      "execution_count": null,
      "outputs": [
        {
          "output_type": "execute_result",
          "data": {
            "text/plain": [
              "{'distance': 1.581,\n",
              " 'distanceString': '1.6 км',\n",
              " 'id': 231,\n",
              " 'lineColors': ['#0078BF'],\n",
              " 'name': 'Мякинино',\n",
              " 'stationType': 'Metro'}"
            ]
          },
          "metadata": {},
          "execution_count": 100
        }
      ]
    },
    {
      "cell_type": "code",
      "source": [
        "train_df['lineColors'] = train_df['station'].map(lambda d: d['lineColors'])\n",
        "test_df['lineColors'] = test_df['station'].map(lambda d: d['lineColors'])"
      ],
      "metadata": {
        "id": "VBp8CflqKikn"
      },
      "execution_count": null,
      "outputs": []
    },
    {
      "cell_type": "code",
      "source": [
        "train_df['linesNumber'] = train_df['station'].map(lambda d: len(d['lineColors']))\n",
        "test_df['linesNumber'] = test_df['station'].map(lambda d: len(d['lineColors']))"
      ],
      "metadata": {
        "id": "_gSmrVZ1m3hf"
      },
      "execution_count": null,
      "outputs": []
    },
    {
      "cell_type": "code",
      "source": [
        "lineColors = []\n",
        "for row in train_df['lineColors']:\n",
        "  for color in row:\n",
        "    if color not in lineColors:\n",
        "      lineColors.append(color)"
      ],
      "metadata": {
        "id": "a25CYOdhLPPq"
      },
      "execution_count": null,
      "outputs": []
    },
    {
      "cell_type": "code",
      "source": [
        "for lineColor in lineColors:\n",
        "  train_df[lineColor] = train_df['lineColors'].apply(lambda l: lineColor in l).astype(int)\n",
        "  test_df[lineColor] = test_df['lineColors'].apply(lambda l: lineColor in l).astype(int)"
      ],
      "metadata": {
        "id": "ulbSIsBmMO27"
      },
      "execution_count": null,
      "outputs": []
    },
    {
      "cell_type": "code",
      "source": [
        "train_df = train_df.drop(columns=['lineColors', 'station', 'closestStations'])\n",
        "test_df = test_df.drop(columns=['lineColors', 'station', 'closestStations'])"
      ],
      "metadata": {
        "id": "MV2EKJFz1hbh"
      },
      "execution_count": null,
      "outputs": []
    },
    {
      "cell_type": "markdown",
      "source": [
        "Удалим признаки, для которых только одно уникальное значение"
      ],
      "metadata": {
        "id": "nMzu0-dg40jT"
      }
    },
    {
      "cell_type": "code",
      "source": [
        "print(f\"Уникальные города в train: {train_df['cityId'].unique()}\")\n",
        "print(f\"Уникальные города в test: {test_df['cityId'].unique()}\")"
      ],
      "metadata": {
        "colab": {
          "base_uri": "https://localhost:8080/"
        },
        "id": "uI8BRiFGvQpa",
        "outputId": "ede9cb4e-46b3-4d9c-ed61-8324cc9bd254"
      },
      "execution_count": null,
      "outputs": [
        {
          "output_type": "stream",
          "name": "stdout",
          "text": [
            "Уникальные города в train: [3584]\n",
            "Уникальные города в test: [3584]\n"
          ]
        }
      ]
    },
    {
      "cell_type": "code",
      "source": [
        "print(train_df['itemType'].unique())\n",
        "print(test_df['itemType'].unique())"
      ],
      "metadata": {
        "colab": {
          "base_uri": "https://localhost:8080/"
        },
        "id": "_Ec_o2SF5dEq",
        "outputId": "d5112d88-24eb-4fb3-bf9a-e6f6f1fb30fa"
      },
      "execution_count": null,
      "outputs": [
        {
          "output_type": "stream",
          "name": "stdout",
          "text": [
            "['Sale']\n",
            "['Sale']\n"
          ]
        }
      ]
    },
    {
      "cell_type": "code",
      "source": [
        "print(train_df['propertyType'].unique())\n",
        "print(test_df['propertyType'].unique())"
      ],
      "metadata": {
        "colab": {
          "base_uri": "https://localhost:8080/"
        },
        "id": "L-IXrMe954yB",
        "outputId": "642f82ce-2855-403c-f993-96ea4a51d3d6"
      },
      "execution_count": null,
      "outputs": [
        {
          "output_type": "stream",
          "name": "stdout",
          "text": [
            "['Apartment']\n",
            "['Apartment']\n"
          ]
        }
      ]
    },
    {
      "cell_type": "code",
      "source": [
        "print(train_df['regionId'].unique())\n",
        "print(test_df['regionId'].unique())"
      ],
      "metadata": {
        "colab": {
          "base_uri": "https://localhost:8080/"
        },
        "id": "O2K7JEbO6ED4",
        "outputId": "bae465ec-eb59-4099-b3c1-3459779158a9"
      },
      "execution_count": null,
      "outputs": [
        {
          "output_type": "stream",
          "name": "stdout",
          "text": [
            "[81]\n",
            "[81]\n"
          ]
        }
      ]
    },
    {
      "cell_type": "code",
      "source": [
        "print(train_df['apartmentSaleType'].unique())\n",
        "print(test_df['apartmentSaleType'].unique())"
      ],
      "metadata": {
        "colab": {
          "base_uri": "https://localhost:8080/"
        },
        "id": "ags6Rtpa69sW",
        "outputId": "4db36332-0d81-42d4-e68a-a0db9c984d44"
      },
      "execution_count": null,
      "outputs": [
        {
          "output_type": "stream",
          "name": "stdout",
          "text": [
            "['New' 'Resale']\n",
            "['Resale' 'New']\n"
          ]
        }
      ]
    },
    {
      "cell_type": "code",
      "source": [
        "train_df = train_df.drop(columns=['cityId', 'itemType', 'propertyType', 'regionId'])\n",
        "test_df = test_df.drop(columns=['cityId', 'itemType', 'propertyType', 'regionId'])"
      ],
      "metadata": {
        "id": "tdiWYtuB5sWD"
      },
      "execution_count": null,
      "outputs": []
    },
    {
      "cell_type": "markdown",
      "source": [
        "Удалим колонку agencyName, т.к. есть agencyId"
      ],
      "metadata": {
        "id": "-XHiBVN5BOyE"
      }
    },
    {
      "cell_type": "code",
      "source": [
        "train_df = train_df.drop(columns=['agencyName'])\n",
        "test_df = test_df.drop(columns=['agencyName'])"
      ],
      "metadata": {
        "id": "ej9BLD3RA-ul"
      },
      "execution_count": null,
      "outputs": []
    },
    {
      "cell_type": "markdown",
      "source": [
        "Добавим признаки с координатами квартиры"
      ],
      "metadata": {
        "id": "R79qyGxruqqR"
      }
    },
    {
      "cell_type": "code",
      "source": [
        "train_df.location.head()"
      ],
      "metadata": {
        "colab": {
          "base_uri": "https://localhost:8080/"
        },
        "id": "h7DvlRKCurK9",
        "outputId": "9086e5af-1835-47cf-c2ad-510514d0f07b"
      },
      "execution_count": null,
      "outputs": [
        {
          "output_type": "execute_result",
          "data": {
            "text/plain": [
              "id\n",
              "45673       {'longitude': 37.3802, 'latitude': 55.81002}\n",
              "27729      {'longitude': 37.65031, 'latitude': 55.84894}\n",
              "72599    {'longitude': 37.599337, 'latitude': 55.772294}\n",
              "46172     {'longitude': 37.488035, 'latitude': 55.69624}\n",
              "17852    {'longitude': 37.437568, 'latitude': 55.722527}\n",
              "Name: location, dtype: object"
            ]
          },
          "metadata": {},
          "execution_count": 113
        }
      ]
    },
    {
      "cell_type": "code",
      "source": [
        "train_df['location'] = train_df['location'].apply(lambda s: json.loads(s.replace(\"'\", \"\\\"\")))\n",
        "test_df['location'] = test_df['location'].apply(lambda s: json.loads(s.replace(\"'\", \"\\\"\")))"
      ],
      "metadata": {
        "id": "WsCGpkGqv8vL"
      },
      "execution_count": null,
      "outputs": []
    },
    {
      "cell_type": "code",
      "source": [
        "train_df['longitude'] = train_df['location'].map(lambda d: d['longitude'])\n",
        "train_df['latitude'] = train_df['location'].map(lambda d: d['latitude'])\n",
        "test_df['longitude'] = test_df['location'].map(lambda d: d['longitude'])\n",
        "test_df['latitude'] = test_df['location'].map(lambda d: d['latitude'])"
      ],
      "metadata": {
        "id": "QuNhbqQPv2ux"
      },
      "execution_count": null,
      "outputs": []
    },
    {
      "cell_type": "code",
      "source": [
        "train_df = train_df.drop(columns=['location'])\n",
        "test_df = test_df.drop(columns=['location'])"
      ],
      "metadata": {
        "id": "NhBHGl28wpw9"
      },
      "execution_count": null,
      "outputs": []
    },
    {
      "cell_type": "markdown",
      "source": [
        "Заполним пропуски в колонках"
      ],
      "metadata": {
        "id": "4PwfN7vgwoe0"
      }
    },
    {
      "cell_type": "code",
      "source": [
        "train_df['adminDistrictId'] = train_df['adminDistrictId'].fillna(0).astype(int)\n",
        "test_df['adminDistrictId'] = test_df['adminDistrictId'].fillna(0).astype(int)"
      ],
      "metadata": {
        "id": "c8BlS0kRydAE"
      },
      "execution_count": null,
      "outputs": []
    },
    {
      "cell_type": "code",
      "source": [
        "train_df['districtId'] = train_df['districtId'].fillna(0).astype(int)\n",
        "test_df['districtId'] = test_df['districtId'].fillna(0).astype(int)"
      ],
      "metadata": {
        "id": "t29t9MKZylgC"
      },
      "execution_count": null,
      "outputs": []
    },
    {
      "cell_type": "code",
      "source": [
        "train_df['developmentId'] = train_df['developmentId'].fillna(0).astype(int)\n",
        "test_df['developmentId'] = test_df['developmentId'].fillna(0).astype(int)"
      ],
      "metadata": {
        "id": "A26iE2I_6vjU"
      },
      "execution_count": null,
      "outputs": []
    },
    {
      "cell_type": "markdown",
      "source": [
        "Преобразуем bool в int"
      ],
      "metadata": {
        "id": "JL3r4-NB5-Z6"
      }
    },
    {
      "cell_type": "code",
      "source": [
        "for col in test_df.columns:\n",
        "  if train_df[col].dtype == 'bool':\n",
        "    train_df[col] = train_df[col].astype(int)\n",
        "    test_df[col] = test_df[col].astype(int)"
      ],
      "metadata": {
        "id": "0ETfzU7a5-qY"
      },
      "execution_count": null,
      "outputs": []
    },
    {
      "cell_type": "code",
      "source": [
        "train_df.info()"
      ],
      "metadata": {
        "colab": {
          "base_uri": "https://localhost:8080/"
        },
        "id": "zU-qXKIG-itR",
        "outputId": "69a4dd74-aca5-4b20-851d-c16881980cd3"
      },
      "execution_count": null,
      "outputs": [
        {
          "output_type": "stream",
          "name": "stdout",
          "text": [
            "<class 'pandas.core.frame.DataFrame'>\n",
            "Int64Index: 70133 entries, 45673 to 62175\n",
            "Data columns (total 39 columns):\n",
            " #   Column                      Non-Null Count  Dtype  \n",
            "---  ------                      --------------  -----  \n",
            " 0   priceValue                  70133 non-null  int64  \n",
            " 1   galleryImagesCount          70133 non-null  int64  \n",
            " 2   hasVideos                   70133 non-null  int64  \n",
            " 3   isReported                  70133 non-null  int64  \n",
            " 4   isVerifiedProAgency         70133 non-null  int64  \n",
            " 5   isShownLowQualityIndicator  70133 non-null  int64  \n",
            " 6   isPremium                   70133 non-null  int64  \n",
            " 7   agencyId                    70133 non-null  int64  \n",
            " 8   floorInt                    70133 non-null  int64  \n",
            " 9   floorAreaCalculated         70133 non-null  float64\n",
            " 10  adminDistrictId             70133 non-null  int64  \n",
            " 11  districtId                  70133 non-null  int64  \n",
            " 12  roomsOrdinal                70133 non-null  int64  \n",
            " 13  isStudio                    70133 non-null  int64  \n",
            " 14  isFreePlan                  70133 non-null  int64  \n",
            " 15  apartmentSaleType           70133 non-null  object \n",
            " 16  developmentId               70133 non-null  int64  \n",
            " 17  totalFloors                 70133 non-null  int64  \n",
            " 18  numberStations              70133 non-null  int64  \n",
            " 19  closestStationId            70133 non-null  int64  \n",
            " 20  closestStationType          70133 non-null  object \n",
            " 21  closestStationDistance      70133 non-null  int64  \n",
            " 22  linesNumber                 70133 non-null  int64  \n",
            " 23  #0078BF                     70133 non-null  int64  \n",
            " 24  #F58631                     70133 non-null  int64  \n",
            " 25  #44B85C                     70133 non-null  int64  \n",
            " 26  #FFCB31                     70133 non-null  int64  \n",
            " 27  #000000                     70133 non-null  int64  \n",
            " 28  #ACBFE1                     70133 non-null  int64  \n",
            " 29  #8E479C                     70133 non-null  int64  \n",
            " 30  #B6D64C                     70133 non-null  int64  \n",
            " 31  #A1A2A3                     70133 non-null  int64  \n",
            " 32  #ED1B35                     70133 non-null  int64  \n",
            " 33  #F4D7CF                     70133 non-null  int64  \n",
            " 34  #19C1F3                     70133 non-null  int64  \n",
            " 35  #79CDCD                     70133 non-null  int64  \n",
            " 36  #894E35                     70133 non-null  int64  \n",
            " 37  longitude                   70133 non-null  float64\n",
            " 38  latitude                    70133 non-null  float64\n",
            "dtypes: float64(3), int64(34), object(2)\n",
            "memory usage: 21.4+ MB\n"
          ]
        }
      ]
    },
    {
      "cell_type": "markdown",
      "source": [
        "# Обучение и валидация"
      ],
      "metadata": {
        "id": "RQdndupbAti_"
      }
    },
    {
      "cell_type": "code",
      "source": [
        "#категориальные признаки \n",
        "cat_columns = ['hasVideos',\n",
        "'isReported',\n",
        "'isVerifiedProAgency',\n",
        "'isShownLowQualityIndicator',\n",
        "'isPremium',\n",
        "'agencyId',\n",
        "'adminDistrictId',\n",
        "'districtId',\n",
        "'isStudio',\n",
        "'isFreePlan',\n",
        "'apartmentSaleType',\n",
        "'developmentId',\n",
        "'closestStationId',\n",
        "'closestStationType']\n",
        "\n",
        "cat_columns += lineColors"
      ],
      "metadata": {
        "id": "-bVOvE9KcMDi"
      },
      "execution_count": null,
      "outputs": []
    },
    {
      "cell_type": "markdown",
      "source": [
        "Удалим колонки, в которых остались пропуски"
      ],
      "metadata": {
        "id": "7EPVpvJI99el"
      }
    },
    {
      "cell_type": "code",
      "source": [
        "train_df = train_df.dropna(axis=1, how='any')\n",
        "test_df = test_df.dropna(axis=1, how='any')"
      ],
      "metadata": {
        "id": "zBJRVUrbnmyW"
      },
      "execution_count": null,
      "outputs": []
    },
    {
      "cell_type": "markdown",
      "source": [
        "Разделим выборку на обучающую и валидацию"
      ],
      "metadata": {
        "id": "h0OS1JLR-Le3"
      }
    },
    {
      "cell_type": "code",
      "source": [
        "y = train_df['priceValue']\n",
        "train_df = train_df.drop(columns=['priceValue'])"
      ],
      "metadata": {
        "id": "Sj2ioENyb-Zs"
      },
      "execution_count": null,
      "outputs": []
    },
    {
      "cell_type": "code",
      "source": [
        "X_train, X_valid, y_train, y_valid = train_test_split(train_df, y, test_size=0.3, random_state=17)"
      ],
      "metadata": {
        "id": "uUHmMLnEAjCb"
      },
      "execution_count": null,
      "outputs": []
    },
    {
      "cell_type": "markdown",
      "source": [
        ""
      ],
      "metadata": {
        "id": "zSG05d-b9Sa_"
      }
    },
    {
      "cell_type": "code",
      "source": [
        "eval_dataset = Pool(data=X_valid,\n",
        "                    label=y_valid,\n",
        "                    cat_features=cat_columns)"
      ],
      "metadata": {
        "id": "YsTHjVfG9S0A"
      },
      "execution_count": null,
      "outputs": []
    },
    {
      "cell_type": "code",
      "source": [
        "model = CatBoostRegressor(iterations=50000, \n",
        "                          cat_features=cat_columns,\n",
        "                          loss_function='RMSE',\n",
        "                          l2_leaf_reg=10,\n",
        "                          depth=7,\n",
        "                          min_data_in_leaf=100,\n",
        "                          task_type=\"GPU\",\n",
        "                          border_count=32)\n",
        "\n",
        "model.fit(X_train, \n",
        "          y_train,\n",
        "          early_stopping_rounds=500,\n",
        "          eval_set=eval_dataset,\n",
        "          verbose=True)"
      ],
      "metadata": {
        "id": "_hiRpvzM1Gdw"
      },
      "execution_count": null,
      "outputs": []
    },
    {
      "cell_type": "markdown",
      "source": [
        "# Предсказание"
      ],
      "metadata": {
        "id": "wDMccAhCnuWm"
      }
    },
    {
      "cell_type": "code",
      "source": [
        "model = CatBoostRegressor(iterations=50000, \n",
        "                          cat_features=cat_columns,\n",
        "                          loss_function='RMSE',\n",
        "                          l2_leaf_reg=10,\n",
        "                          depth=7,\n",
        "                          min_data_in_leaf=100,\n",
        "                          task_type=\"GPU\")\n",
        "\n",
        "model.fit(train_df, y, verbose=True)"
      ],
      "metadata": {
        "id": "jhY8MgEfREnq"
      },
      "execution_count": null,
      "outputs": []
    },
    {
      "cell_type": "code",
      "source": [
        "submit = pd.read_csv('./sample.csv', index_col=0)\n",
        "submit['priceValue'] = model.predict(test_df)\n",
        "submit.head()"
      ],
      "metadata": {
        "colab": {
          "base_uri": "https://localhost:8080/",
          "height": 238
        },
        "id": "jjUcoTIPolJQ",
        "outputId": "fc261c7f-7ae8-4e06-c9fb-6abc4a852635"
      },
      "execution_count": null,
      "outputs": [
        {
          "output_type": "execute_result",
          "data": {
            "text/plain": [
              "         priceValue\n",
              "id                 \n",
              "62321  1.272513e+07\n",
              "13154  6.697015e+07\n",
              "26935  1.967898e+07\n",
              "39371  5.669555e+07\n",
              "47540  4.733615e+06"
            ],
            "text/html": [
              "\n",
              "  <div id=\"df-a80fb94b-0387-48cb-b179-902cb776ad66\">\n",
              "    <div class=\"colab-df-container\">\n",
              "      <div>\n",
              "<style scoped>\n",
              "    .dataframe tbody tr th:only-of-type {\n",
              "        vertical-align: middle;\n",
              "    }\n",
              "\n",
              "    .dataframe tbody tr th {\n",
              "        vertical-align: top;\n",
              "    }\n",
              "\n",
              "    .dataframe thead th {\n",
              "        text-align: right;\n",
              "    }\n",
              "</style>\n",
              "<table border=\"1\" class=\"dataframe\">\n",
              "  <thead>\n",
              "    <tr style=\"text-align: right;\">\n",
              "      <th></th>\n",
              "      <th>priceValue</th>\n",
              "    </tr>\n",
              "    <tr>\n",
              "      <th>id</th>\n",
              "      <th></th>\n",
              "    </tr>\n",
              "  </thead>\n",
              "  <tbody>\n",
              "    <tr>\n",
              "      <th>62321</th>\n",
              "      <td>1.272513e+07</td>\n",
              "    </tr>\n",
              "    <tr>\n",
              "      <th>13154</th>\n",
              "      <td>6.697015e+07</td>\n",
              "    </tr>\n",
              "    <tr>\n",
              "      <th>26935</th>\n",
              "      <td>1.967898e+07</td>\n",
              "    </tr>\n",
              "    <tr>\n",
              "      <th>39371</th>\n",
              "      <td>5.669555e+07</td>\n",
              "    </tr>\n",
              "    <tr>\n",
              "      <th>47540</th>\n",
              "      <td>4.733615e+06</td>\n",
              "    </tr>\n",
              "  </tbody>\n",
              "</table>\n",
              "</div>\n",
              "      <button class=\"colab-df-convert\" onclick=\"convertToInteractive('df-a80fb94b-0387-48cb-b179-902cb776ad66')\"\n",
              "              title=\"Convert this dataframe to an interactive table.\"\n",
              "              style=\"display:none;\">\n",
              "        \n",
              "  <svg xmlns=\"http://www.w3.org/2000/svg\" height=\"24px\"viewBox=\"0 0 24 24\"\n",
              "       width=\"24px\">\n",
              "    <path d=\"M0 0h24v24H0V0z\" fill=\"none\"/>\n",
              "    <path d=\"M18.56 5.44l.94 2.06.94-2.06 2.06-.94-2.06-.94-.94-2.06-.94 2.06-2.06.94zm-11 1L8.5 8.5l.94-2.06 2.06-.94-2.06-.94L8.5 2.5l-.94 2.06-2.06.94zm10 10l.94 2.06.94-2.06 2.06-.94-2.06-.94-.94-2.06-.94 2.06-2.06.94z\"/><path d=\"M17.41 7.96l-1.37-1.37c-.4-.4-.92-.59-1.43-.59-.52 0-1.04.2-1.43.59L10.3 9.45l-7.72 7.72c-.78.78-.78 2.05 0 2.83L4 21.41c.39.39.9.59 1.41.59.51 0 1.02-.2 1.41-.59l7.78-7.78 2.81-2.81c.8-.78.8-2.07 0-2.86zM5.41 20L4 18.59l7.72-7.72 1.47 1.35L5.41 20z\"/>\n",
              "  </svg>\n",
              "      </button>\n",
              "      \n",
              "  <style>\n",
              "    .colab-df-container {\n",
              "      display:flex;\n",
              "      flex-wrap:wrap;\n",
              "      gap: 12px;\n",
              "    }\n",
              "\n",
              "    .colab-df-convert {\n",
              "      background-color: #E8F0FE;\n",
              "      border: none;\n",
              "      border-radius: 50%;\n",
              "      cursor: pointer;\n",
              "      display: none;\n",
              "      fill: #1967D2;\n",
              "      height: 32px;\n",
              "      padding: 0 0 0 0;\n",
              "      width: 32px;\n",
              "    }\n",
              "\n",
              "    .colab-df-convert:hover {\n",
              "      background-color: #E2EBFA;\n",
              "      box-shadow: 0px 1px 2px rgba(60, 64, 67, 0.3), 0px 1px 3px 1px rgba(60, 64, 67, 0.15);\n",
              "      fill: #174EA6;\n",
              "    }\n",
              "\n",
              "    [theme=dark] .colab-df-convert {\n",
              "      background-color: #3B4455;\n",
              "      fill: #D2E3FC;\n",
              "    }\n",
              "\n",
              "    [theme=dark] .colab-df-convert:hover {\n",
              "      background-color: #434B5C;\n",
              "      box-shadow: 0px 1px 3px 1px rgba(0, 0, 0, 0.15);\n",
              "      filter: drop-shadow(0px 1px 2px rgba(0, 0, 0, 0.3));\n",
              "      fill: #FFFFFF;\n",
              "    }\n",
              "  </style>\n",
              "\n",
              "      <script>\n",
              "        const buttonEl =\n",
              "          document.querySelector('#df-a80fb94b-0387-48cb-b179-902cb776ad66 button.colab-df-convert');\n",
              "        buttonEl.style.display =\n",
              "          google.colab.kernel.accessAllowed ? 'block' : 'none';\n",
              "\n",
              "        async function convertToInteractive(key) {\n",
              "          const element = document.querySelector('#df-a80fb94b-0387-48cb-b179-902cb776ad66');\n",
              "          const dataTable =\n",
              "            await google.colab.kernel.invokeFunction('convertToInteractive',\n",
              "                                                     [key], {});\n",
              "          if (!dataTable) return;\n",
              "\n",
              "          const docLinkHtml = 'Like what you see? Visit the ' +\n",
              "            '<a target=\"_blank\" href=https://colab.research.google.com/notebooks/data_table.ipynb>data table notebook</a>'\n",
              "            + ' to learn more about interactive tables.';\n",
              "          element.innerHTML = '';\n",
              "          dataTable['output_type'] = 'display_data';\n",
              "          await google.colab.output.renderOutput(dataTable, element);\n",
              "          const docLink = document.createElement('div');\n",
              "          docLink.innerHTML = docLinkHtml;\n",
              "          element.appendChild(docLink);\n",
              "        }\n",
              "      </script>\n",
              "    </div>\n",
              "  </div>\n",
              "  "
            ]
          },
          "metadata": {},
          "execution_count": 128
        }
      ]
    },
    {
      "cell_type": "code",
      "source": [
        "submit.to_csv('submit4.csv')"
      ],
      "metadata": {
        "id": "wkh3a0usovrP"
      },
      "execution_count": null,
      "outputs": []
    },
    {
      "cell_type": "code",
      "source": [
        ""
      ],
      "metadata": {
        "id": "5yhELeCxoe9Z"
      },
      "execution_count": null,
      "outputs": []
    }
  ]
}